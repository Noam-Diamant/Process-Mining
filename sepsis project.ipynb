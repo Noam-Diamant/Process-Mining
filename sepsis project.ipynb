{
 "cells": [
  {
   "cell_type": "markdown",
   "metadata": {},
   "source": [
    "# Sepsis Cases Project\n"
   ]
  },
  {
   "cell_type": "code",
   "execution_count": 85,
   "metadata": {},
   "outputs": [],
   "source": [
    "import pm4py\n",
    "import pandas as pd\n"
   ]
  },
  {
   "cell_type": "markdown",
   "metadata": {},
   "source": [
    "#### Load the CSV and XES files"
   ]
  },
  {
   "cell_type": "code",
   "execution_count": 86,
   "metadata": {},
   "outputs": [
    {
     "data": {
      "text/html": [
       "<div>\n",
       "<style scoped>\n",
       "    .dataframe tbody tr th:only-of-type {\n",
       "        vertical-align: middle;\n",
       "    }\n",
       "\n",
       "    .dataframe tbody tr th {\n",
       "        vertical-align: top;\n",
       "    }\n",
       "\n",
       "    .dataframe thead th {\n",
       "        text-align: right;\n",
       "    }\n",
       "</style>\n",
       "<table border=\"1\" class=\"dataframe\">\n",
       "  <thead>\n",
       "    <tr style=\"text-align: right;\">\n",
       "      <th></th>\n",
       "      <th>Unnamed: 0</th>\n",
       "      <th>InfectionSuspected</th>\n",
       "      <th>org:group</th>\n",
       "      <th>DiagnosticBlood</th>\n",
       "      <th>DisfuncOrg</th>\n",
       "      <th>SIRSCritTachypnea</th>\n",
       "      <th>Hypotensie</th>\n",
       "      <th>SIRSCritHeartRate</th>\n",
       "      <th>Infusion</th>\n",
       "      <th>DiagnosticArtAstrup</th>\n",
       "      <th>concept:name</th>\n",
       "      <th>Age</th>\n",
       "      <th>DiagnosticIC</th>\n",
       "      <th>DiagnosticSputum</th>\n",
       "      <th>DiagnosticLiquor</th>\n",
       "      <th>DiagnosticOther</th>\n",
       "      <th>SIRSCriteria2OrMore</th>\n",
       "      <th>DiagnosticXthorax</th>\n",
       "      <th>SIRSCritTemperature</th>\n",
       "      <th>time:timestamp</th>\n",
       "      <th>DiagnosticUrinaryCulture</th>\n",
       "      <th>SIRSCritLeucos</th>\n",
       "      <th>Oligurie</th>\n",
       "      <th>DiagnosticLacticAcid</th>\n",
       "      <th>lifecycle:transition</th>\n",
       "      <th>Diagnose</th>\n",
       "      <th>Hypoxie</th>\n",
       "      <th>DiagnosticUrinarySediment</th>\n",
       "      <th>DiagnosticECG</th>\n",
       "      <th>case:concept:name</th>\n",
       "      <th>Leucocytes</th>\n",
       "      <th>CRP</th>\n",
       "      <th>LacticAcid</th>\n",
       "    </tr>\n",
       "  </thead>\n",
       "  <tbody>\n",
       "    <tr>\n",
       "      <th>0</th>\n",
       "      <td>0</td>\n",
       "      <td>True</td>\n",
       "      <td>A</td>\n",
       "      <td>True</td>\n",
       "      <td>True</td>\n",
       "      <td>True</td>\n",
       "      <td>True</td>\n",
       "      <td>True</td>\n",
       "      <td>True</td>\n",
       "      <td>True</td>\n",
       "      <td>ER Registration</td>\n",
       "      <td>85.0</td>\n",
       "      <td>True</td>\n",
       "      <td>False</td>\n",
       "      <td>False</td>\n",
       "      <td>False</td>\n",
       "      <td>True</td>\n",
       "      <td>True</td>\n",
       "      <td>True</td>\n",
       "      <td>2014-10-22 11:15:41+00:00</td>\n",
       "      <td>True</td>\n",
       "      <td>False</td>\n",
       "      <td>False</td>\n",
       "      <td>True</td>\n",
       "      <td>complete</td>\n",
       "      <td>A</td>\n",
       "      <td>False</td>\n",
       "      <td>True</td>\n",
       "      <td>True</td>\n",
       "      <td>A</td>\n",
       "      <td>NaN</td>\n",
       "      <td>NaN</td>\n",
       "      <td>NaN</td>\n",
       "    </tr>\n",
       "    <tr>\n",
       "      <th>1</th>\n",
       "      <td>1</td>\n",
       "      <td>NaN</td>\n",
       "      <td>B</td>\n",
       "      <td>NaN</td>\n",
       "      <td>NaN</td>\n",
       "      <td>NaN</td>\n",
       "      <td>NaN</td>\n",
       "      <td>NaN</td>\n",
       "      <td>NaN</td>\n",
       "      <td>NaN</td>\n",
       "      <td>Leucocytes</td>\n",
       "      <td>NaN</td>\n",
       "      <td>NaN</td>\n",
       "      <td>NaN</td>\n",
       "      <td>NaN</td>\n",
       "      <td>NaN</td>\n",
       "      <td>NaN</td>\n",
       "      <td>NaN</td>\n",
       "      <td>NaN</td>\n",
       "      <td>2014-10-22 11:27:00+00:00</td>\n",
       "      <td>NaN</td>\n",
       "      <td>NaN</td>\n",
       "      <td>NaN</td>\n",
       "      <td>NaN</td>\n",
       "      <td>complete</td>\n",
       "      <td>NaN</td>\n",
       "      <td>NaN</td>\n",
       "      <td>NaN</td>\n",
       "      <td>NaN</td>\n",
       "      <td>A</td>\n",
       "      <td>9.6</td>\n",
       "      <td>NaN</td>\n",
       "      <td>NaN</td>\n",
       "    </tr>\n",
       "    <tr>\n",
       "      <th>2</th>\n",
       "      <td>2</td>\n",
       "      <td>NaN</td>\n",
       "      <td>B</td>\n",
       "      <td>NaN</td>\n",
       "      <td>NaN</td>\n",
       "      <td>NaN</td>\n",
       "      <td>NaN</td>\n",
       "      <td>NaN</td>\n",
       "      <td>NaN</td>\n",
       "      <td>NaN</td>\n",
       "      <td>CRP</td>\n",
       "      <td>NaN</td>\n",
       "      <td>NaN</td>\n",
       "      <td>NaN</td>\n",
       "      <td>NaN</td>\n",
       "      <td>NaN</td>\n",
       "      <td>NaN</td>\n",
       "      <td>NaN</td>\n",
       "      <td>NaN</td>\n",
       "      <td>2014-10-22 11:27:00+00:00</td>\n",
       "      <td>NaN</td>\n",
       "      <td>NaN</td>\n",
       "      <td>NaN</td>\n",
       "      <td>NaN</td>\n",
       "      <td>complete</td>\n",
       "      <td>NaN</td>\n",
       "      <td>NaN</td>\n",
       "      <td>NaN</td>\n",
       "      <td>NaN</td>\n",
       "      <td>A</td>\n",
       "      <td>NaN</td>\n",
       "      <td>21.0</td>\n",
       "      <td>NaN</td>\n",
       "    </tr>\n",
       "    <tr>\n",
       "      <th>3</th>\n",
       "      <td>3</td>\n",
       "      <td>NaN</td>\n",
       "      <td>B</td>\n",
       "      <td>NaN</td>\n",
       "      <td>NaN</td>\n",
       "      <td>NaN</td>\n",
       "      <td>NaN</td>\n",
       "      <td>NaN</td>\n",
       "      <td>NaN</td>\n",
       "      <td>NaN</td>\n",
       "      <td>LacticAcid</td>\n",
       "      <td>NaN</td>\n",
       "      <td>NaN</td>\n",
       "      <td>NaN</td>\n",
       "      <td>NaN</td>\n",
       "      <td>NaN</td>\n",
       "      <td>NaN</td>\n",
       "      <td>NaN</td>\n",
       "      <td>NaN</td>\n",
       "      <td>2014-10-22 11:27:00+00:00</td>\n",
       "      <td>NaN</td>\n",
       "      <td>NaN</td>\n",
       "      <td>NaN</td>\n",
       "      <td>NaN</td>\n",
       "      <td>complete</td>\n",
       "      <td>NaN</td>\n",
       "      <td>NaN</td>\n",
       "      <td>NaN</td>\n",
       "      <td>NaN</td>\n",
       "      <td>A</td>\n",
       "      <td>NaN</td>\n",
       "      <td>NaN</td>\n",
       "      <td>2.2</td>\n",
       "    </tr>\n",
       "    <tr>\n",
       "      <th>4</th>\n",
       "      <td>4</td>\n",
       "      <td>NaN</td>\n",
       "      <td>C</td>\n",
       "      <td>NaN</td>\n",
       "      <td>NaN</td>\n",
       "      <td>NaN</td>\n",
       "      <td>NaN</td>\n",
       "      <td>NaN</td>\n",
       "      <td>NaN</td>\n",
       "      <td>NaN</td>\n",
       "      <td>ER Triage</td>\n",
       "      <td>NaN</td>\n",
       "      <td>NaN</td>\n",
       "      <td>NaN</td>\n",
       "      <td>NaN</td>\n",
       "      <td>NaN</td>\n",
       "      <td>NaN</td>\n",
       "      <td>NaN</td>\n",
       "      <td>NaN</td>\n",
       "      <td>2014-10-22 11:33:37+00:00</td>\n",
       "      <td>NaN</td>\n",
       "      <td>NaN</td>\n",
       "      <td>NaN</td>\n",
       "      <td>NaN</td>\n",
       "      <td>complete</td>\n",
       "      <td>NaN</td>\n",
       "      <td>NaN</td>\n",
       "      <td>NaN</td>\n",
       "      <td>NaN</td>\n",
       "      <td>A</td>\n",
       "      <td>NaN</td>\n",
       "      <td>NaN</td>\n",
       "      <td>NaN</td>\n",
       "    </tr>\n",
       "  </tbody>\n",
       "</table>\n",
       "</div>"
      ],
      "text/plain": [
       "   Unnamed: 0 InfectionSuspected org:group DiagnosticBlood DisfuncOrg  \\\n",
       "0           0               True         A            True       True   \n",
       "1           1                NaN         B             NaN        NaN   \n",
       "2           2                NaN         B             NaN        NaN   \n",
       "3           3                NaN         B             NaN        NaN   \n",
       "4           4                NaN         C             NaN        NaN   \n",
       "\n",
       "  SIRSCritTachypnea Hypotensie SIRSCritHeartRate Infusion DiagnosticArtAstrup  \\\n",
       "0              True       True              True     True                True   \n",
       "1               NaN        NaN               NaN      NaN                 NaN   \n",
       "2               NaN        NaN               NaN      NaN                 NaN   \n",
       "3               NaN        NaN               NaN      NaN                 NaN   \n",
       "4               NaN        NaN               NaN      NaN                 NaN   \n",
       "\n",
       "      concept:name   Age DiagnosticIC DiagnosticSputum DiagnosticLiquor  \\\n",
       "0  ER Registration  85.0         True            False            False   \n",
       "1       Leucocytes   NaN          NaN              NaN              NaN   \n",
       "2              CRP   NaN          NaN              NaN              NaN   \n",
       "3       LacticAcid   NaN          NaN              NaN              NaN   \n",
       "4        ER Triage   NaN          NaN              NaN              NaN   \n",
       "\n",
       "  DiagnosticOther SIRSCriteria2OrMore DiagnosticXthorax SIRSCritTemperature  \\\n",
       "0           False                True              True                True   \n",
       "1             NaN                 NaN               NaN                 NaN   \n",
       "2             NaN                 NaN               NaN                 NaN   \n",
       "3             NaN                 NaN               NaN                 NaN   \n",
       "4             NaN                 NaN               NaN                 NaN   \n",
       "\n",
       "              time:timestamp DiagnosticUrinaryCulture SIRSCritLeucos Oligurie  \\\n",
       "0  2014-10-22 11:15:41+00:00                     True          False    False   \n",
       "1  2014-10-22 11:27:00+00:00                      NaN            NaN      NaN   \n",
       "2  2014-10-22 11:27:00+00:00                      NaN            NaN      NaN   \n",
       "3  2014-10-22 11:27:00+00:00                      NaN            NaN      NaN   \n",
       "4  2014-10-22 11:33:37+00:00                      NaN            NaN      NaN   \n",
       "\n",
       "  DiagnosticLacticAcid lifecycle:transition Diagnose Hypoxie  \\\n",
       "0                 True             complete        A   False   \n",
       "1                  NaN             complete      NaN     NaN   \n",
       "2                  NaN             complete      NaN     NaN   \n",
       "3                  NaN             complete      NaN     NaN   \n",
       "4                  NaN             complete      NaN     NaN   \n",
       "\n",
       "  DiagnosticUrinarySediment DiagnosticECG case:concept:name  Leucocytes   CRP  \\\n",
       "0                      True          True                 A         NaN   NaN   \n",
       "1                       NaN           NaN                 A         9.6   NaN   \n",
       "2                       NaN           NaN                 A         NaN  21.0   \n",
       "3                       NaN           NaN                 A         NaN   NaN   \n",
       "4                       NaN           NaN                 A         NaN   NaN   \n",
       "\n",
       "   LacticAcid  \n",
       "0         NaN  \n",
       "1         NaN  \n",
       "2         NaN  \n",
       "3         2.2  \n",
       "4         NaN  "
      ]
     },
     "execution_count": 86,
     "metadata": {},
     "output_type": "execute_result"
    }
   ],
   "source": [
    "df = pd.read_csv('Sepsis Cases - Event Log.csv')\n",
    "log = pm4py.read_xes(\"Sepsis Cases - Event Log.xes\", variant=\"iterparse20\")\n",
    "\n",
    "df.head()"
   ]
  },
  {
   "cell_type": "code",
   "execution_count": 87,
   "metadata": {},
   "outputs": [
    {
     "name": "stdout",
     "output_type": "stream",
     "text": [
      "number of traces: 1050\n"
     ]
    }
   ],
   "source": [
    "n_traces = len(log[\"case:concept:name\"].unique())\n",
    "print(f\"number of traces: {n_traces}\")"
   ]
  },
  {
   "cell_type": "code",
   "execution_count": 88,
   "metadata": {},
   "outputs": [
    {
     "name": "stdout",
     "output_type": "stream",
     "text": [
      "                    Trace  Count\n",
      "                A,C,A,B,B     46\n",
      "          A,C,A,B,B,B,A,A     42\n",
      "                    A,C,A     31\n",
      "              A,C,A,B,B,B     21\n",
      "          A,C,A,A,A,B,B,B     10\n",
      "          A,C,B,B,B,A,A,A      9\n",
      "          A,C,A,A,B,B,B,A      9\n",
      "                A,C,B,B,A      7\n",
      "  A,C,A,B,B,B,A,A,O,B,B,E      7\n",
      "A,C,A,B,B,B,A,A,F,B,B,E,?      7\n"
     ]
    }
   ],
   "source": [
    "# Group by 'case_id' and concatenate the events for each trace\n",
    "trace_df = df.groupby('case:concept:name')['org:group'].apply(lambda x: ','.join(x)).reset_index()\n",
    "\n",
    "# Count the occurrences of each unique trace\n",
    "trace_counts = trace_df['org:group'].value_counts()\n",
    "\n",
    "# Rename the column for display purposes\n",
    "trace_counts = trace_counts.rename_axis('Trace').reset_index(name='Count')\n",
    "\n",
    "# Print the results without the index\n",
    "print(trace_counts.head(10).to_string(index=False))"
   ]
  },
  {
   "cell_type": "code",
   "execution_count": 89,
   "metadata": {},
   "outputs": [
    {
     "name": "stderr",
     "output_type": "stream",
     "text": [
      "C:\\Users\\mayan\\AppData\\Local\\Temp\\ipykernel_39144\\3462307038.py:4: FutureWarning: using <built-in method join of str object at 0x000001F05A701680> in Series.agg cannot aggregate and has been deprecated. Use Series.transform to keep behavior unchanged.\n",
      "  activities_resources = log.groupby(activity_attribute)[resource_attribute].unique().agg(\", \".join)\n"
     ]
    },
    {
     "data": {
      "text/plain": [
       "concept:name\n",
       "Admission IC                                                        J, P, K, W\n",
       "Admission NC        D, F, G, H, I, J, K, M, N, O, Q, R, S, T, U, V, P, X, W, Y\n",
       "CRP                                                                          B\n",
       "ER Registration                                                           A, L\n",
       "ER Sepsis Triage                                                          A, L\n",
       "ER Triage                                                                    C\n",
       "IV Antibiotics                                                            A, L\n",
       "IV Liquid                                                                 A, L\n",
       "LacticAcid                                                                   B\n",
       "Leucocytes                                                                   B\n",
       "Release A                                                                    E\n",
       "Release B                                                                    E\n",
       "Release C                                                                    E\n",
       "Release D                                                                    E\n",
       "Release E                                                                    E\n",
       "Return ER                                                                    ?\n",
       "Name: org:group, dtype: object"
      ]
     },
     "metadata": {},
     "output_type": "display_data"
    }
   ],
   "source": [
    "activity_attribute = \"concept:name\"\n",
    "activities = log.groupby(activity_attribute)[activity_attribute].count()\n",
    "resource_attribute = \"org:group\"\n",
    "activities_resources = log.groupby(activity_attribute)[resource_attribute].unique().agg(\", \".join)\n",
    "display(pd.merge(activities, activities_resources, left_index=True, right_index=True)[\"org:group\"])"
   ]
  },
  {
   "cell_type": "markdown",
   "metadata": {},
   "source": [
    "#### Most common process variants"
   ]
  },
  {
   "cell_type": "code",
   "execution_count": 90,
   "metadata": {},
   "outputs": [
    {
     "data": {
      "text/html": [
       "<div>\n",
       "<style scoped>\n",
       "    .dataframe tbody tr th:only-of-type {\n",
       "        vertical-align: middle;\n",
       "    }\n",
       "\n",
       "    .dataframe tbody tr th {\n",
       "        vertical-align: top;\n",
       "    }\n",
       "\n",
       "    .dataframe thead th {\n",
       "        text-align: right;\n",
       "    }\n",
       "</style>\n",
       "<table border=\"1\" class=\"dataframe\">\n",
       "  <thead>\n",
       "    <tr style=\"text-align: right;\">\n",
       "      <th></th>\n",
       "      <th>variant</th>\n",
       "      <th>count</th>\n",
       "      <th>percentile</th>\n",
       "    </tr>\n",
       "  </thead>\n",
       "  <tbody>\n",
       "    <tr>\n",
       "      <th>21</th>\n",
       "      <td>(ER Registration, ER Triage, ER Sepsis Triage)</td>\n",
       "      <td>35</td>\n",
       "      <td>3.333333</td>\n",
       "    </tr>\n",
       "    <tr>\n",
       "      <th>24</th>\n",
       "      <td>(ER Registration, ER Triage, ER Sepsis Triage, Leucocytes, CRP)</td>\n",
       "      <td>24</td>\n",
       "      <td>2.285714</td>\n",
       "    </tr>\n",
       "    <tr>\n",
       "      <th>95</th>\n",
       "      <td>(ER Registration, ER Triage, ER Sepsis Triage, CRP, Leucocytes)</td>\n",
       "      <td>22</td>\n",
       "      <td>2.095238</td>\n",
       "    </tr>\n",
       "    <tr>\n",
       "      <th>3</th>\n",
       "      <td>(ER Registration, ER Triage, ER Sepsis Triage, CRP, LacticAcid, Leucocytes, IV Liquid, IV Antibiotics)</td>\n",
       "      <td>13</td>\n",
       "      <td>1.238095</td>\n",
       "    </tr>\n",
       "    <tr>\n",
       "      <th>36</th>\n",
       "      <td>(ER Registration, ER Triage, ER Sepsis Triage, Leucocytes, CRP, LacticAcid)</td>\n",
       "      <td>11</td>\n",
       "      <td>1.047619</td>\n",
       "    </tr>\n",
       "    <tr>\n",
       "      <th>139</th>\n",
       "      <td>(ER Registration, ER Triage, ER Sepsis Triage, Leucocytes, CRP, LacticAcid, IV Liquid, IV Antibiotics)</td>\n",
       "      <td>9</td>\n",
       "      <td>0.857143</td>\n",
       "    </tr>\n",
       "    <tr>\n",
       "      <th>1</th>\n",
       "      <td>(ER Registration, ER Triage, ER Sepsis Triage, Leucocytes, LacticAcid, CRP, IV Liquid, IV Antibiotics)</td>\n",
       "      <td>7</td>\n",
       "      <td>0.666667</td>\n",
       "    </tr>\n",
       "    <tr>\n",
       "      <th>158</th>\n",
       "      <td>(ER Registration, ER Triage, ER Sepsis Triage, Leucocytes, CRP, Admission NC, Release A)</td>\n",
       "      <td>5</td>\n",
       "      <td>0.476190</td>\n",
       "    </tr>\n",
       "    <tr>\n",
       "      <th>232</th>\n",
       "      <td>(ER Registration, ER Triage, ER Sepsis Triage, LacticAcid, Leucocytes, CRP, IV Liquid, IV Antibiotics)</td>\n",
       "      <td>5</td>\n",
       "      <td>0.476190</td>\n",
       "    </tr>\n",
       "    <tr>\n",
       "      <th>83</th>\n",
       "      <td>(ER Registration, ER Triage, ER Sepsis Triage, CRP, Leucocytes, LacticAcid, IV Liquid, IV Antibiotics)</td>\n",
       "      <td>5</td>\n",
       "      <td>0.476190</td>\n",
       "    </tr>\n",
       "  </tbody>\n",
       "</table>\n",
       "</div>"
      ],
      "text/plain": [
       "                                                                                                    variant  \\\n",
       "21                                                           (ER Registration, ER Triage, ER Sepsis Triage)   \n",
       "24                                          (ER Registration, ER Triage, ER Sepsis Triage, Leucocytes, CRP)   \n",
       "95                                          (ER Registration, ER Triage, ER Sepsis Triage, CRP, Leucocytes)   \n",
       "3    (ER Registration, ER Triage, ER Sepsis Triage, CRP, LacticAcid, Leucocytes, IV Liquid, IV Antibiotics)   \n",
       "36                              (ER Registration, ER Triage, ER Sepsis Triage, Leucocytes, CRP, LacticAcid)   \n",
       "139  (ER Registration, ER Triage, ER Sepsis Triage, Leucocytes, CRP, LacticAcid, IV Liquid, IV Antibiotics)   \n",
       "1    (ER Registration, ER Triage, ER Sepsis Triage, Leucocytes, LacticAcid, CRP, IV Liquid, IV Antibiotics)   \n",
       "158                (ER Registration, ER Triage, ER Sepsis Triage, Leucocytes, CRP, Admission NC, Release A)   \n",
       "232  (ER Registration, ER Triage, ER Sepsis Triage, LacticAcid, Leucocytes, CRP, IV Liquid, IV Antibiotics)   \n",
       "83   (ER Registration, ER Triage, ER Sepsis Triage, CRP, Leucocytes, LacticAcid, IV Liquid, IV Antibiotics)   \n",
       "\n",
       "     count  percentile  \n",
       "21      35    3.333333  \n",
       "24      24    2.285714  \n",
       "95      22    2.095238  \n",
       "3       13    1.238095  \n",
       "36      11    1.047619  \n",
       "139      9    0.857143  \n",
       "1        7    0.666667  \n",
       "158      5    0.476190  \n",
       "232      5    0.476190  \n",
       "83       5    0.476190  "
      ]
     },
     "execution_count": 90,
     "metadata": {},
     "output_type": "execute_result"
    }
   ],
   "source": [
    "variants = pm4py.get_variants(log)\n",
    "common_variants = pd.DataFrame(variants.items(), columns=[\"variant\", \"count\"]).sort_values(\"count\", ascending=False)\n",
    "common_variants[\"percentile\"] = common_variants[\"count\"] / common_variants[\"count\"].sum() * 100\n",
    "pd.set_option(\"display.max_colwidth\", None)\n",
    "common_variants.head(10)[[\"variant\", \"count\", \"percentile\"]]"
   ]
  },
  {
   "cell_type": "code",
   "execution_count": 91,
   "metadata": {},
   "outputs": [
    {
     "name": "stdout",
     "output_type": "stream",
     "text": [
      "Start activities:\n"
     ]
    },
    {
     "data": {
      "text/plain": [
       "{'ER Registration': 995,\n",
       " 'IV Liquid': 14,\n",
       " 'ER Triage': 6,\n",
       " 'CRP': 10,\n",
       " 'ER Sepsis Triage': 7,\n",
       " 'Leucocytes': 18}"
      ]
     },
     "metadata": {},
     "output_type": "display_data"
    },
    {
     "name": "stdout",
     "output_type": "stream",
     "text": [
      "End activities:\n"
     ]
    },
    {
     "data": {
      "text/plain": [
       "{'Release A': 393,\n",
       " 'Return ER': 291,\n",
       " 'IV Antibiotics': 87,\n",
       " 'Release B': 55,\n",
       " 'ER Sepsis Triage': 49,\n",
       " 'Leucocytes': 44,\n",
       " 'IV Liquid': 12,\n",
       " 'Release C': 19,\n",
       " 'CRP': 41,\n",
       " 'LacticAcid': 24,\n",
       " 'Release D': 14,\n",
       " 'Admission NC': 14,\n",
       " 'Release E': 5,\n",
       " 'ER Triage': 2}"
      ]
     },
     "metadata": {},
     "output_type": "display_data"
    }
   ],
   "source": [
    "start_activities = pm4py.stats.get_start_activities(log)\n",
    "end_activities = pm4py.stats.get_end_activities(log)\n",
    "print(\"Start activities:\")\n",
    "display(start_activities)\n",
    "print(\"End activities:\")\n",
    "display(end_activities)"
   ]
  },
  {
   "cell_type": "code",
   "execution_count": 92,
   "metadata": {},
   "outputs": [
    {
     "name": "stdout",
     "output_type": "stream",
     "text": [
      "Filtered log length: 12436\n",
      "0.18259497830945182\n",
      "Remaining traces: 734\n"
     ]
    }
   ],
   "source": [
    "initial_log_len = len(log)\n",
    "\n",
    "valid_star_activity = {\"ER Registration\"}\n",
    "valid_end_activities = {\"Release A\", \"Release B\", \"Release C\", \"Release D\", \"Release E\", \"Return ER\"}\n",
    "\n",
    "log = pm4py.filter_start_activities(log, valid_star_activity)\n",
    "log = pm4py.filter_end_activities(log, valid_end_activities)\n",
    "\n",
    "print(\"Filtered log length:\", len(log))\n",
    "print((initial_log_len - len(log))/initial_log_len)\n",
    "n_traces = len(log[\"case:concept:name\"].unique())\n",
    "print(f\"Remaining traces: {n_traces}\")"
   ]
  },
  {
   "cell_type": "code",
   "execution_count": 93,
   "metadata": {},
   "outputs": [
    {
     "name": "stdout",
     "output_type": "stream",
     "text": [
      "Start activities:\n"
     ]
    },
    {
     "data": {
      "text/plain": [
       "{'ER Registration': 734}"
      ]
     },
     "metadata": {},
     "output_type": "display_data"
    },
    {
     "name": "stdout",
     "output_type": "stream",
     "text": [
      "End activities:\n"
     ]
    },
    {
     "data": {
      "text/plain": [
       "{'Release A': 376,\n",
       " 'Return ER': 275,\n",
       " 'Release B': 49,\n",
       " 'Release C': 16,\n",
       " 'Release D': 13,\n",
       " 'Release E': 5}"
      ]
     },
     "metadata": {},
     "output_type": "display_data"
    }
   ],
   "source": [
    "start_activities = pm4py.stats.get_start_activities(log)\n",
    "end_activities = pm4py.stats.get_end_activities(log)\n",
    "print(\"Start activities:\")\n",
    "display(start_activities)\n",
    "print(\"End activities:\")\n",
    "display(end_activities)"
   ]
  },
  {
   "cell_type": "code",
   "execution_count": 94,
   "metadata": {},
   "outputs": [
    {
     "data": {
      "text/html": [
       "<div>\n",
       "<style scoped>\n",
       "    .dataframe tbody tr th:only-of-type {\n",
       "        vertical-align: middle;\n",
       "    }\n",
       "\n",
       "    .dataframe tbody tr th {\n",
       "        vertical-align: top;\n",
       "    }\n",
       "\n",
       "    .dataframe thead th {\n",
       "        text-align: right;\n",
       "    }\n",
       "</style>\n",
       "<table border=\"1\" class=\"dataframe\">\n",
       "  <thead>\n",
       "    <tr style=\"text-align: right;\">\n",
       "      <th></th>\n",
       "      <th>variant</th>\n",
       "      <th>count</th>\n",
       "      <th>percentile</th>\n",
       "    </tr>\n",
       "  </thead>\n",
       "  <tbody>\n",
       "    <tr>\n",
       "      <th>122</th>\n",
       "      <td>(ER Registration, ER Triage, ER Sepsis Triage, Leucocytes, CRP, Admission NC, Release A)</td>\n",
       "      <td>5</td>\n",
       "      <td>0.681199</td>\n",
       "    </tr>\n",
       "    <tr>\n",
       "      <th>183</th>\n",
       "      <td>(ER Registration, ER Triage, ER Sepsis Triage, LacticAcid, Leucocytes, CRP, IV Liquid, IV Antibiotics, Admission NC, Release A)</td>\n",
       "      <td>4</td>\n",
       "      <td>0.544959</td>\n",
       "    </tr>\n",
       "    <tr>\n",
       "      <th>48</th>\n",
       "      <td>(ER Registration, ER Triage, ER Sepsis Triage, CRP, Leucocytes, Admission NC, Release A)</td>\n",
       "      <td>4</td>\n",
       "      <td>0.544959</td>\n",
       "    </tr>\n",
       "    <tr>\n",
       "      <th>213</th>\n",
       "      <td>(ER Registration, ER Triage, ER Sepsis Triage, Leucocytes, LacticAcid, CRP, IV Liquid, IV Antibiotics, Admission NC, CRP, Leucocytes, Release A)</td>\n",
       "      <td>4</td>\n",
       "      <td>0.544959</td>\n",
       "    </tr>\n",
       "    <tr>\n",
       "      <th>269</th>\n",
       "      <td>(ER Registration, ER Triage, ER Sepsis Triage, Leucocytes, CRP, LacticAcid, IV Liquid, IV Antibiotics, Admission NC, Leucocytes, CRP, Release A)</td>\n",
       "      <td>4</td>\n",
       "      <td>0.544959</td>\n",
       "    </tr>\n",
       "    <tr>\n",
       "      <th>34</th>\n",
       "      <td>(ER Registration, ER Triage, ER Sepsis Triage, IV Liquid, Leucocytes, CRP, LacticAcid, IV Antibiotics, Admission NC, Leucocytes, CRP, Release A, Return ER)</td>\n",
       "      <td>3</td>\n",
       "      <td>0.408719</td>\n",
       "    </tr>\n",
       "    <tr>\n",
       "      <th>121</th>\n",
       "      <td>(ER Registration, ER Triage, ER Sepsis Triage, Leucocytes, CRP, LacticAcid, IV Liquid, IV Antibiotics, Admission NC, CRP, Release A, Return ER)</td>\n",
       "      <td>3</td>\n",
       "      <td>0.408719</td>\n",
       "    </tr>\n",
       "    <tr>\n",
       "      <th>596</th>\n",
       "      <td>(ER Registration, ER Triage, ER Sepsis Triage, IV Liquid, IV Antibiotics, Leucocytes, LacticAcid, CRP, Admission NC, Leucocytes, CRP, Release A, Return ER)</td>\n",
       "      <td>3</td>\n",
       "      <td>0.408719</td>\n",
       "    </tr>\n",
       "    <tr>\n",
       "      <th>126</th>\n",
       "      <td>(ER Registration, ER Triage, ER Sepsis Triage, CRP, LacticAcid, Leucocytes, IV Liquid, IV Antibiotics, Admission NC, Release A)</td>\n",
       "      <td>3</td>\n",
       "      <td>0.408719</td>\n",
       "    </tr>\n",
       "    <tr>\n",
       "      <th>342</th>\n",
       "      <td>(ER Registration, ER Triage, ER Sepsis Triage, LacticAcid, Leucocytes, CRP, IV Liquid, IV Antibiotics, Admission NC, Leucocytes, CRP, CRP, Leucocytes, Release A)</td>\n",
       "      <td>2</td>\n",
       "      <td>0.272480</td>\n",
       "    </tr>\n",
       "  </tbody>\n",
       "</table>\n",
       "</div>"
      ],
      "text/plain": [
       "                                                                                                                                                               variant  \\\n",
       "122                                                                           (ER Registration, ER Triage, ER Sepsis Triage, Leucocytes, CRP, Admission NC, Release A)   \n",
       "183                                    (ER Registration, ER Triage, ER Sepsis Triage, LacticAcid, Leucocytes, CRP, IV Liquid, IV Antibiotics, Admission NC, Release A)   \n",
       "48                                                                            (ER Registration, ER Triage, ER Sepsis Triage, CRP, Leucocytes, Admission NC, Release A)   \n",
       "213                   (ER Registration, ER Triage, ER Sepsis Triage, Leucocytes, LacticAcid, CRP, IV Liquid, IV Antibiotics, Admission NC, CRP, Leucocytes, Release A)   \n",
       "269                   (ER Registration, ER Triage, ER Sepsis Triage, Leucocytes, CRP, LacticAcid, IV Liquid, IV Antibiotics, Admission NC, Leucocytes, CRP, Release A)   \n",
       "34         (ER Registration, ER Triage, ER Sepsis Triage, IV Liquid, Leucocytes, CRP, LacticAcid, IV Antibiotics, Admission NC, Leucocytes, CRP, Release A, Return ER)   \n",
       "121                    (ER Registration, ER Triage, ER Sepsis Triage, Leucocytes, CRP, LacticAcid, IV Liquid, IV Antibiotics, Admission NC, CRP, Release A, Return ER)   \n",
       "596        (ER Registration, ER Triage, ER Sepsis Triage, IV Liquid, IV Antibiotics, Leucocytes, LacticAcid, CRP, Admission NC, Leucocytes, CRP, Release A, Return ER)   \n",
       "126                                    (ER Registration, ER Triage, ER Sepsis Triage, CRP, LacticAcid, Leucocytes, IV Liquid, IV Antibiotics, Admission NC, Release A)   \n",
       "342  (ER Registration, ER Triage, ER Sepsis Triage, LacticAcid, Leucocytes, CRP, IV Liquid, IV Antibiotics, Admission NC, Leucocytes, CRP, CRP, Leucocytes, Release A)   \n",
       "\n",
       "     count  percentile  \n",
       "122      5    0.681199  \n",
       "183      4    0.544959  \n",
       "48       4    0.544959  \n",
       "213      4    0.544959  \n",
       "269      4    0.544959  \n",
       "34       3    0.408719  \n",
       "121      3    0.408719  \n",
       "596      3    0.408719  \n",
       "126      3    0.408719  \n",
       "342      2    0.272480  "
      ]
     },
     "execution_count": 94,
     "metadata": {},
     "output_type": "execute_result"
    }
   ],
   "source": [
    "variants = pm4py.get_variants(log)\n",
    "common_variants = pd.DataFrame(variants.items(), columns=[\"variant\", \"count\"]).sort_values(\"count\", ascending=False)\n",
    "common_variants[\"percentile\"] = common_variants[\"count\"] / common_variants[\"count\"].sum() * 100\n",
    "pd.set_option(\"display.max_colwidth\", None)\n",
    "common_variants.head(10)[[\"variant\", \"count\", \"percentile\"]]"
   ]
  },
  {
   "cell_type": "code",
   "execution_count": 95,
   "metadata": {},
   "outputs": [
    {
     "name": "stdout",
     "output_type": "stream",
     "text": [
      "Index(['Unnamed: 0', 'InfectionSuspected', 'org:group', 'DiagnosticBlood',\n",
      "       'DisfuncOrg', 'SIRSCritTachypnea', 'Hypotensie', 'SIRSCritHeartRate',\n",
      "       'Infusion', 'DiagnosticArtAstrup', 'concept:name', 'Age',\n",
      "       'DiagnosticIC', 'DiagnosticSputum', 'DiagnosticLiquor',\n",
      "       'DiagnosticOther', 'SIRSCriteria2OrMore', 'DiagnosticXthorax',\n",
      "       'SIRSCritTemperature', 'time:timestamp', 'DiagnosticUrinaryCulture',\n",
      "       'SIRSCritLeucos', 'Oligurie', 'DiagnosticLacticAcid',\n",
      "       'lifecycle:transition', 'Diagnose', 'Hypoxie',\n",
      "       'DiagnosticUrinarySediment', 'DiagnosticECG', 'case:concept:name',\n",
      "       'Leucocytes', 'CRP', 'LacticAcid'],\n",
      "      dtype='object')\n"
     ]
    }
   ],
   "source": [
    "\n",
    "print(df.columns)"
   ]
  },
  {
   "cell_type": "code",
   "execution_count": 96,
   "metadata": {},
   "outputs": [
    {
     "data": {
      "image/png": "[encoded data removed]",
      "text/plain": [
       "<Figure size 800x600 with 1 Axes>"
      ]
     },
     "metadata": {},
     "output_type": "display_data"
    }
   ],
   "source": [
    "import seaborn as sns\n",
    "import matplotlib.pyplot as plt\n",
    "\n",
    "# Create a histogram of age distribution\n",
    "plt.figure(figsize=(8, 6))\n",
    "sns.histplot(df['Age'], bins=20, kde=True, color='skyblue')\n",
    "plt.title('Age Distribution of Patients')\n",
    "plt.xlabel('Age')\n",
    "plt.ylabel('Frequency')\n",
    "plt.show()\n"
   ]
  },
  {
   "cell_type": "code",
   "execution_count": 97,
   "metadata": {},
   "outputs": [
    {
     "data": {
      "image/png": "[encoded data removed]",
      "text/plain": [
       "<IPython.core.display.Image object>"
      ]
     },
     "metadata": {},
     "output_type": "display_data"
    },
    {
     "data": {
      "image/png": "[encoded data removed]",
      "text/plain": [
       "<IPython.core.display.Image object>"
      ]
     },
     "metadata": {},
     "output_type": "display_data"
    },
    {
     "data": {
      "image/png": "[encoded data removed]",
      "text/plain": [
       "<IPython.core.display.Image object>"
      ]
     },
     "metadata": {},
     "output_type": "display_data"
    },
    {
     "data": {
      "image/png": "[encoded data removed]",
      "text/plain": [
       "<IPython.core.display.Image object>"
      ]
     },
     "metadata": {},
     "output_type": "display_data"
    }
   ],
   "source": [
    "pm4py.view_events_per_time_graph(log)\n",
    "pm4py.view_events_distribution_graph(log)\n",
    "pm4py.view_events_distribution_graph(log, distr_type=\"hours\")\n",
    "pm4py.view_events_distribution_graph(log, distr_type=\"months\")"
   ]
  }
 ],
 "metadata": {
  "kernelspec": {
   "display_name": "Python 3",
   "language": "python",
   "name": "python3"
  },
  "language_info": {
   "codemirror_mode": {
    "name": "ipython",
    "version": 3
   },
   "file_extension": ".py",
   "mimetype": "text/x-python",
   "name": "python",
   "nbconvert_exporter": "python",
   "pygments_lexer": "ipython3",
   "version": "3.12.3"
  }
 },
 "nbformat": 4,
 "nbformat_minor": 2
}
